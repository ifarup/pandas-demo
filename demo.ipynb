{
 "metadata": {
  "name": ""
 },
 "nbformat": 3,
 "nbformat_minor": 0,
 "worksheets": [
  {
   "cells": [
    {
     "cell_type": "markdown",
     "metadata": {},
     "source": [
      "# Bitteliten demo av pandas\n",
      "\n",
      "Pandas er et bibilotek for programmeringsspr\u00e5ket python. For \u00e5 komme i gang:\n",
      "\n",
      "* Installer [Anaconda](https://www.continuum.io/downloads) (velg python 3.x)\n",
      "* Start jupyter QtConsole (alternativt IPython)\n",
      "\n",
      "For \u00e5 f\u00e5 lastet inn biblioteket pandas, skriver du:"
     ]
    },
    {
     "cell_type": "code",
     "collapsed": false,
     "input": [
      "import pandas as pd"
     ],
     "language": "python",
     "metadata": {},
     "outputs": [],
     "prompt_number": 1
    },
    {
     "cell_type": "markdown",
     "metadata": {},
     "source": [
      "S\u00e5 laster vi inn en datafil p\u00e5 CSV-format (comma separated value):"
     ]
    },
    {
     "cell_type": "code",
     "collapsed": false,
     "input": [
      "auto = pd.read_csv('auto.csv')"
     ],
     "language": "python",
     "metadata": {},
     "outputs": [],
     "prompt_number": 2
    },
    {
     "cell_type": "markdown",
     "metadata": {},
     "source": [
      "Dette er en stor fil med data for mange historiske biler. Vi kan se de f\u00f8rste fem linjene av denne tabellen ved \u00e5 skrive:"
     ]
    },
    {
     "cell_type": "code",
     "collapsed": false,
     "input": [
      "auto[:5]"
     ],
     "language": "python",
     "metadata": {},
     "outputs": [
      {
       "html": [
        "<div style=\"max-height:1000px;max-width:1500px;overflow:auto;\">\n",
        "<table border=\"1\" class=\"dataframe\">\n",
        "  <thead>\n",
        "    <tr style=\"text-align: right;\">\n",
        "      <th></th>\n",
        "      <th>mpg</th>\n",
        "      <th>cylinders</th>\n",
        "      <th>displacement</th>\n",
        "      <th>horsepower</th>\n",
        "      <th>weight</th>\n",
        "      <th>acceleration</th>\n",
        "      <th>year</th>\n",
        "      <th>origin</th>\n",
        "      <th>name</th>\n",
        "    </tr>\n",
        "  </thead>\n",
        "  <tbody>\n",
        "    <tr>\n",
        "      <th>0</th>\n",
        "      <td> 18</td>\n",
        "      <td> 8</td>\n",
        "      <td> 307</td>\n",
        "      <td> 130</td>\n",
        "      <td> 3504</td>\n",
        "      <td> 12.0</td>\n",
        "      <td> 70</td>\n",
        "      <td> 1</td>\n",
        "      <td> chevrolet chevelle malibu</td>\n",
        "    </tr>\n",
        "    <tr>\n",
        "      <th>1</th>\n",
        "      <td> 15</td>\n",
        "      <td> 8</td>\n",
        "      <td> 350</td>\n",
        "      <td> 165</td>\n",
        "      <td> 3693</td>\n",
        "      <td> 11.5</td>\n",
        "      <td> 70</td>\n",
        "      <td> 1</td>\n",
        "      <td>         buick skylark 320</td>\n",
        "    </tr>\n",
        "    <tr>\n",
        "      <th>2</th>\n",
        "      <td> 18</td>\n",
        "      <td> 8</td>\n",
        "      <td> 318</td>\n",
        "      <td> 150</td>\n",
        "      <td> 3436</td>\n",
        "      <td> 11.0</td>\n",
        "      <td> 70</td>\n",
        "      <td> 1</td>\n",
        "      <td>        plymouth satellite</td>\n",
        "    </tr>\n",
        "    <tr>\n",
        "      <th>3</th>\n",
        "      <td> 16</td>\n",
        "      <td> 8</td>\n",
        "      <td> 304</td>\n",
        "      <td> 150</td>\n",
        "      <td> 3433</td>\n",
        "      <td> 12.0</td>\n",
        "      <td> 70</td>\n",
        "      <td> 1</td>\n",
        "      <td>             amc rebel sst</td>\n",
        "    </tr>\n",
        "    <tr>\n",
        "      <th>4</th>\n",
        "      <td> 17</td>\n",
        "      <td> 8</td>\n",
        "      <td> 302</td>\n",
        "      <td> 140</td>\n",
        "      <td> 3449</td>\n",
        "      <td> 10.5</td>\n",
        "      <td> 70</td>\n",
        "      <td> 1</td>\n",
        "      <td>               ford torino</td>\n",
        "    </tr>\n",
        "  </tbody>\n",
        "</table>\n",
        "<p>5 rows \u00d7 9 columns</p>\n",
        "</div>"
       ],
       "metadata": {},
       "output_type": "pyout",
       "prompt_number": 3,
       "text": [
        "   mpg  cylinders  displacement  horsepower  weight  acceleration  year  \\\n",
        "0   18          8           307         130    3504          12.0    70   \n",
        "1   15          8           350         165    3693          11.5    70   \n",
        "2   18          8           318         150    3436          11.0    70   \n",
        "3   16          8           304         150    3433          12.0    70   \n",
        "4   17          8           302         140    3449          10.5    70   \n",
        "\n",
        "   origin                       name  \n",
        "0       1  chevrolet chevelle malibu  \n",
        "1       1          buick skylark 320  \n",
        "2       1         plymouth satellite  \n",
        "3       1              amc rebel sst  \n",
        "4       1                ford torino  \n",
        "\n",
        "[5 rows x 9 columns]"
       ]
      }
     ],
     "prompt_number": 3
    },
    {
     "cell_type": "markdown",
     "metadata": {},
     "source": [
      "Vi kan ogs\u00e5 f\u00e5 diverse statistikk ved \u00e5 bruke funksjonen _describe_. Her ser vi at det er 397 ulike bilmodeller i datasettet, og vi f\u00e5r endel statistikk om hver parameter:"
     ]
    },
    {
     "cell_type": "code",
     "collapsed": false,
     "input": [
      "auto.describe()"
     ],
     "language": "python",
     "metadata": {},
     "outputs": [
      {
       "output_type": "stream",
       "stream": "stderr",
       "text": [
        "/usr/lib/python3/dist-packages/pandas/compat/scipy.py:68: VisibleDeprecationWarning: using a non-integer number instead of an integer will result in an error in the future\n",
        "  score = values[idx]\n"
       ]
      },
      {
       "html": [
        "<div style=\"max-height:1000px;max-width:1500px;overflow:auto;\">\n",
        "<table border=\"1\" class=\"dataframe\">\n",
        "  <thead>\n",
        "    <tr style=\"text-align: right;\">\n",
        "      <th></th>\n",
        "      <th>mpg</th>\n",
        "      <th>cylinders</th>\n",
        "      <th>displacement</th>\n",
        "      <th>horsepower</th>\n",
        "      <th>weight</th>\n",
        "      <th>acceleration</th>\n",
        "      <th>year</th>\n",
        "      <th>origin</th>\n",
        "    </tr>\n",
        "  </thead>\n",
        "  <tbody>\n",
        "    <tr>\n",
        "      <th>count</th>\n",
        "      <td> 397.000000</td>\n",
        "      <td> 397.000000</td>\n",
        "      <td> 397.000000</td>\n",
        "      <td> 392.000000</td>\n",
        "      <td>  397.000000</td>\n",
        "      <td> 397.000000</td>\n",
        "      <td> 397.000000</td>\n",
        "      <td> 397.000000</td>\n",
        "    </tr>\n",
        "    <tr>\n",
        "      <th>mean</th>\n",
        "      <td>  23.515869</td>\n",
        "      <td>   5.458438</td>\n",
        "      <td> 193.532746</td>\n",
        "      <td> 104.469388</td>\n",
        "      <td> 2970.261965</td>\n",
        "      <td>  15.555668</td>\n",
        "      <td>  75.994962</td>\n",
        "      <td>   1.574307</td>\n",
        "    </tr>\n",
        "    <tr>\n",
        "      <th>std</th>\n",
        "      <td>   7.825804</td>\n",
        "      <td>   1.701577</td>\n",
        "      <td> 104.379583</td>\n",
        "      <td>  38.491160</td>\n",
        "      <td>  847.904119</td>\n",
        "      <td>   2.749995</td>\n",
        "      <td>   3.690005</td>\n",
        "      <td>   0.802549</td>\n",
        "    </tr>\n",
        "    <tr>\n",
        "      <th>min</th>\n",
        "      <td>   9.000000</td>\n",
        "      <td>   3.000000</td>\n",
        "      <td>  68.000000</td>\n",
        "      <td>  46.000000</td>\n",
        "      <td> 1613.000000</td>\n",
        "      <td>   8.000000</td>\n",
        "      <td>  70.000000</td>\n",
        "      <td>   1.000000</td>\n",
        "    </tr>\n",
        "    <tr>\n",
        "      <th>25%</th>\n",
        "      <td>  17.500000</td>\n",
        "      <td>   4.000000</td>\n",
        "      <td> 104.000000</td>\n",
        "      <td>  75.000000</td>\n",
        "      <td> 2223.000000</td>\n",
        "      <td>  13.800000</td>\n",
        "      <td>  73.000000</td>\n",
        "      <td>   1.000000</td>\n",
        "    </tr>\n",
        "    <tr>\n",
        "      <th>50%</th>\n",
        "      <td>  23.000000</td>\n",
        "      <td>   4.000000</td>\n",
        "      <td> 146.000000</td>\n",
        "      <td>  93.500000</td>\n",
        "      <td> 2800.000000</td>\n",
        "      <td>  15.500000</td>\n",
        "      <td>  76.000000</td>\n",
        "      <td>   1.000000</td>\n",
        "    </tr>\n",
        "    <tr>\n",
        "      <th>75%</th>\n",
        "      <td>  29.000000</td>\n",
        "      <td>   8.000000</td>\n",
        "      <td> 262.000000</td>\n",
        "      <td> 126.000000</td>\n",
        "      <td> 3609.000000</td>\n",
        "      <td>  17.100000</td>\n",
        "      <td>  79.000000</td>\n",
        "      <td>   2.000000</td>\n",
        "    </tr>\n",
        "    <tr>\n",
        "      <th>max</th>\n",
        "      <td>  46.600000</td>\n",
        "      <td>   8.000000</td>\n",
        "      <td> 455.000000</td>\n",
        "      <td> 230.000000</td>\n",
        "      <td> 5140.000000</td>\n",
        "      <td>  24.800000</td>\n",
        "      <td>  82.000000</td>\n",
        "      <td>   3.000000</td>\n",
        "    </tr>\n",
        "  </tbody>\n",
        "</table>\n",
        "<p>8 rows \u00d7 8 columns</p>\n",
        "</div>"
       ],
       "metadata": {},
       "output_type": "pyout",
       "prompt_number": 4,
       "text": [
        "              mpg   cylinders  displacement  horsepower       weight  \\\n",
        "count  397.000000  397.000000    397.000000  392.000000   397.000000   \n",
        "mean    23.515869    5.458438    193.532746  104.469388  2970.261965   \n",
        "std      7.825804    1.701577    104.379583   38.491160   847.904119   \n",
        "min      9.000000    3.000000     68.000000   46.000000  1613.000000   \n",
        "25%     17.500000    4.000000    104.000000   75.000000  2223.000000   \n",
        "50%     23.000000    4.000000    146.000000   93.500000  2800.000000   \n",
        "75%     29.000000    8.000000    262.000000  126.000000  3609.000000   \n",
        "max     46.600000    8.000000    455.000000  230.000000  5140.000000   \n",
        "\n",
        "       acceleration        year      origin  \n",
        "count    397.000000  397.000000  397.000000  \n",
        "mean      15.555668   75.994962    1.574307  \n",
        "std        2.749995    3.690005    0.802549  \n",
        "min        8.000000   70.000000    1.000000  \n",
        "25%       13.800000   73.000000    1.000000  \n",
        "50%       15.500000   76.000000    1.000000  \n",
        "75%       17.100000   79.000000    2.000000  \n",
        "max       24.800000   82.000000    3.000000  \n",
        "\n",
        "[8 rows x 8 columns]"
       ]
      }
     ],
     "prompt_number": 4
    },
    {
     "cell_type": "markdown",
     "metadata": {},
     "source": [
      "Vi kan n\u00e5 enkelt plotte st\u00f8rrelser i tabellene mot hverandre. F.eks. aksellerasjon som funksjon av hestekrefter:"
     ]
    },
    {
     "cell_type": "code",
     "collapsed": false,
     "input": [
      "auto.plot('horsepower', 'acceleration', style='x')"
     ],
     "language": "python",
     "metadata": {},
     "outputs": [
      {
       "metadata": {},
       "output_type": "pyout",
       "prompt_number": 5,
       "text": [
        "<matplotlib.axes.AxesSubplot at 0x7f082c6f0a20>"
       ]
      },
      {
       "metadata": {},
       "output_type": "display_data",
       "png": "[encoded data removed]",
       "text": [
        "<matplotlib.figure.Figure at 0x7f082c6ca128>"
       ]
      }
     ],
     "prompt_number": 5
    },
    {
     "cell_type": "markdown",
     "metadata": {},
     "source": [
      "Vi kan ogs\u00e5 lage mer statistiske plot, som f.eks. boxplot der hvor vi har kategoriske data, som f.eks. antall sylindre. Her er bensinforbruket (i miles per gallon) mot antall sylindre:"
     ]
    },
    {
     "cell_type": "code",
     "collapsed": false,
     "input": [
      "auto.boxplot('mpg', 'cylinders')"
     ],
     "language": "python",
     "metadata": {},
     "outputs": [
      {
       "metadata": {},
       "output_type": "pyout",
       "prompt_number": 6,
       "text": [
        "<matplotlib.axes.AxesSubplot at 0x7f082c6b65f8>"
       ]
      },
      {
       "metadata": {},
       "output_type": "display_data",
       "png": "[encoded data removed]",
       "text": [
        "<matplotlib.figure.Figure at 0x7f082c61cfd0>"
       ]
      }
     ],
     "prompt_number": 6
    },
    {
     "cell_type": "markdown",
     "metadata": {},
     "source": [
      "S\u00e5nn, da er vi i gang, og det er bare \u00e5 bruke pandas til \u00e5 analysere data. Her er mer stoff for viderekommende:\n",
      "\n",
      "* [Pandas CookBook](http://nbviewer.jupyter.org/github/jvns/pandas-cookbook/tree/v0.1/cookbook/)\n",
      "* Pandas [hjemmeside](http://pandas.pydata.org/) med masser av dokumentasjon\n",
      "\n",
      "God forn\u00f8yelse!"
     ]
    }
   ],
   "metadata": {}
  }
 ]
}